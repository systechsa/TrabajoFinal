{
 "cells": [
  {
   "cell_type": "code",
   "execution_count": 8,
   "id": "c961ca0c-9a0f-4251-9c90-e6416f2a7559",
   "metadata": {},
   "outputs": [],
   "source": [
    "import pandas as pd\n",
    "from sqlalchemy import create_engine"
   ]
  },
  {
   "cell_type": "code",
   "execution_count": 4,
   "id": "3a2739e2-a191-4c6b-96a2-395db47b032e",
   "metadata": {},
   "outputs": [
    {
     "name": "stdout",
     "output_type": "stream",
     "text": [
      "Requirement already satisfied: pandas in c:\\users\\avaz_\\appdata\\local\\programs\\python\\python310\\lib\\site-packages (2.2.3)\n",
      "Requirement already satisfied: sqlalchemy in c:\\users\\avaz_\\appdata\\local\\programs\\python\\python310\\lib\\site-packages (2.0.41)\n",
      "Collecting pyodbc\n",
      "  Downloading pyodbc-5.2.0-cp310-cp310-win_amd64.whl.metadata (2.8 kB)\n",
      "Requirement already satisfied: numpy>=1.22.4 in c:\\users\\avaz_\\appdata\\local\\programs\\python\\python310\\lib\\site-packages (from pandas) (2.2.5)\n",
      "Requirement already satisfied: python-dateutil>=2.8.2 in c:\\users\\avaz_\\appdata\\local\\programs\\python\\python310\\lib\\site-packages (from pandas) (2.9.0.post0)\n",
      "Requirement already satisfied: pytz>=2020.1 in c:\\users\\avaz_\\appdata\\local\\programs\\python\\python310\\lib\\site-packages (from pandas) (2025.2)\n",
      "Requirement already satisfied: tzdata>=2022.7 in c:\\users\\avaz_\\appdata\\local\\programs\\python\\python310\\lib\\site-packages (from pandas) (2025.2)\n",
      "Requirement already satisfied: greenlet>=1 in c:\\users\\avaz_\\appdata\\local\\programs\\python\\python310\\lib\\site-packages (from sqlalchemy) (3.2.2)\n",
      "Requirement already satisfied: typing-extensions>=4.6.0 in c:\\users\\avaz_\\appdata\\local\\programs\\python\\python310\\lib\\site-packages (from sqlalchemy) (4.13.2)\n",
      "Requirement already satisfied: six>=1.5 in c:\\users\\avaz_\\appdata\\local\\programs\\python\\python310\\lib\\site-packages (from python-dateutil>=2.8.2->pandas) (1.17.0)\n",
      "Downloading pyodbc-5.2.0-cp310-cp310-win_amd64.whl (68 kB)\n",
      "Installing collected packages: pyodbc\n",
      "Successfully installed pyodbc-5.2.0\n"
     ]
    },
    {
     "name": "stderr",
     "output_type": "stream",
     "text": [
      "WARNING: Ignoring invalid distribution -lflow (c:\\users\\avaz_\\appdata\\local\\programs\\python\\python310\\lib\\site-packages)\n",
      "WARNING: Ignoring invalid distribution -lflow (c:\\users\\avaz_\\appdata\\local\\programs\\python\\python310\\lib\\site-packages)\n",
      "WARNING: Ignoring invalid distribution -lflow (c:\\users\\avaz_\\appdata\\local\\programs\\python\\python310\\lib\\site-packages)\n"
     ]
    }
   ],
   "source": [
    "!pip install pandas sqlalchemy pyodbc"
   ]
  },
  {
   "cell_type": "code",
   "execution_count": 13,
   "id": "bad4fed7-f1fa-4ba4-96f4-252fa5f0ac9f",
   "metadata": {},
   "outputs": [],
   "source": [
    "driver = 'ODBC Driver 17 for SQL Server'  \n",
    "server = '165.232.156.17'                  \n",
    "database = 'almacen'\n",
    "usuario = 'UserSql'\n",
    "contrasena = 'JHlo4556HVlmdjb'"
   ]
  },
  {
   "cell_type": "code",
   "execution_count": 14,
   "id": "4196cc24-f9a2-42ee-821d-0e5234e5e3a5",
   "metadata": {},
   "outputs": [
    {
     "name": "stdout",
     "output_type": "stream",
     "text": [
      "                Fecha  CodCLiente            Factura  Total  \\\n",
      "0 2024-01-02 09:57:00         501  002-010-000021495  32.25   \n",
      "1 2024-01-02 13:19:00        2136  002-010-000021498  29.22   \n",
      "2 2024-01-02 13:19:00        2136  002-010-000021498  29.22   \n",
      "3 2024-01-02 13:19:00        2136  002-010-000021498  29.22   \n",
      "4 2024-01-02 09:47:00         661  002-010-000021494  42.03   \n",
      "\n",
      "                                            Producto  Cantidad     Precio  \n",
      "0                                BISAGRA RECTA 35MM       15.0   0.750000  \n",
      "1                           TRIPLEX 5.2MM 122 X 244        1.0  15.000000  \n",
      "2                        TORNILLO PARA MDF 21/2 X 8        1.0   0.500000  \n",
      "3                                    TACO FISHER F6        1.0   1.600000  \n",
      "4  AMOLADORA ANGULAR IND 41/2 \"  710W 5/8\"  11000...       1.0  36.026727  \n"
     ]
    }
   ],
   "source": [
    "cadena_conexion = (\n",
    "    f\"mssql+pyodbc://{usuario}:{contrasena}@{server}/{database}\"\n",
    "    \"?driver=\" + driver.replace(\" \", \"+\") \n",
    ")\n",
    "\n",
    "engine = create_engine(cadena_conexion)\n",
    "\n",
    "dfVentas = pd.read_sql(\"SELECT * FROM ventas\", engine)\n",
    "\n",
    "print(dfVentas.head())"
   ]
  },
  {
   "cell_type": "code",
   "execution_count": 15,
   "id": "6e1131fb-bab3-4f3a-b111-10abdf451314",
   "metadata": {},
   "outputs": [
    {
     "name": "stdout",
     "output_type": "stream",
     "text": [
      "   CodCLiente                                   Cliente  \\\n",
      "0           1      Altamirano Alejandra Sisneros Alonzo   \n",
      "1           2  Sáenz Gilberto Teodoro Espinosa Sisneros   \n",
      "2           3           Márquez Raquel Cardenas Salinas   \n",
      "3           4                 Rojas Liliana Óliver Piña   \n",
      "4           5                Guerra Lic. Modesto Padrón   \n",
      "\n",
      "                                           Direccion          Telefono  \\\n",
      "0  Prolongación Sur Peres 590 Interior 006\\nSan A...  +13(8)8873769883   \n",
      "1  Retorno Swazilandia 103 Edif. 571 , Depto. 733...  851-067-6654x530   \n",
      "2  Pasaje Etiopía 833 Edif. 335 , Depto. 887\\nNue...       01050896197   \n",
      "3  Viaducto Distrito Federal 376 251\\nSan Oswaldo...      181.673.8610   \n",
      "4  Privada Tuvalu 130 Edif. 576 , Depto. 680\\nSan...  +95(9)4331526499   \n",
      "\n",
      "    latitud   longitud  \n",
      "0 -1.155126 -79.300864  \n",
      "1 -1.171300 -79.567091  \n",
      "2 -1.130207 -79.322099  \n",
      "3 -1.028898 -79.447760  \n",
      "4 -1.217136 -79.571166  \n"
     ]
    }
   ],
   "source": [
    "dfCliente = pd.read_csv('Clientes.csv')\n",
    "print(dfCliente.head())"
   ]
  },
  {
   "cell_type": "code",
   "execution_count": 17,
   "id": "3f19d1a7-1953-4e3d-b24b-ce1e0db9ab9b",
   "metadata": {},
   "outputs": [],
   "source": [
    "dfCompleto = pd.merge(dfVentas, dfCliente, on='CodCLiente')"
   ]
  },
  {
   "cell_type": "code",
   "execution_count": 20,
   "id": "9ebc9b88-bed4-4397-9654-face5bd397b6",
   "metadata": {},
   "outputs": [
    {
     "data": {
      "text/plain": [
       "47"
      ]
     },
     "execution_count": 20,
     "metadata": {},
     "output_type": "execute_result"
    }
   ],
   "source": [
    "dfCompleto.to_csv('Ventas_Clientes.csv', index=False)\n",
    "dfCompleto.to_sql('Ventas_Clientes', con=engine, if_exists='replace', index=False)\n"
   ]
  },
  {
   "cell_type": "code",
   "execution_count": 18,
   "id": "139486d4-83ff-458e-8a63-c6241c2f3223",
   "metadata": {},
   "outputs": [
    {
     "name": "stdout",
     "output_type": "stream",
     "text": [
      "                    Fecha  CodCLiente            Factura   Total  \\\n",
      "0     2024-01-02 09:57:00         501  002-010-000021495   32.25   \n",
      "1     2024-01-02 13:19:00        2136  002-010-000021498   29.22   \n",
      "2     2024-01-02 13:19:00        2136  002-010-000021498   29.22   \n",
      "3     2024-01-02 13:19:00        2136  002-010-000021498   29.22   \n",
      "4     2024-01-02 09:47:00         661  002-010-000021494   42.03   \n",
      "...                   ...         ...                ...     ...   \n",
      "34146 2024-12-11 13:28:00           1  002-010-000033257    1.78   \n",
      "34147 2024-12-11 14:16:00        2488  002-010-000033258   92.00   \n",
      "34148 2024-12-11 14:16:00        2488  002-010-000033258   92.00   \n",
      "34149 2024-12-11 14:33:00         760  002-010-000033260  104.10   \n",
      "34150 2024-12-11 14:33:00         760  002-010-000033260  104.10   \n",
      "\n",
      "                                                Producto  Cantidad     Precio  \\\n",
      "0                                    BISAGRA RECTA 35MM       15.0   0.750000   \n",
      "1                               TRIPLEX 5.2MM 122 X 244        1.0  15.000000   \n",
      "2                            TORNILLO PARA MDF 21/2 X 8        1.0   0.500000   \n",
      "3                                        TACO FISHER F6        1.0   1.600000   \n",
      "4      AMOLADORA ANGULAR IND 41/2 \"  710W 5/8\"  11000...       1.0  36.026727   \n",
      "...                                                  ...       ...        ...   \n",
      "34146                      CERRADURA CAJON THE LOOK 101        1.0   1.030000   \n",
      "34147                TROPIKOR 15MM CARBON D/D 215 X 244        1.0  80.000000   \n",
      "34148              PEGAMENTO PCANTEADORA RK-0570 RAKOLL       40.0   0.050000   \n",
      "34149                 TROPIKOR 15MM NACAR D/D 215 X 244        1.0  99.000000   \n",
      "34150              PEGAMENTO PCANTEADORA RK-0570 RAKOLL       17.0   0.050000   \n",
      "\n",
      "                                             Cliente  \\\n",
      "0      Zamudio Claudia Eugenia Iglesias de la Fuente   \n",
      "1                     Rentería Mtro. Agustín Ramírez   \n",
      "2                     Rentería Mtro. Agustín Ramírez   \n",
      "3                     Rentería Mtro. Agustín Ramírez   \n",
      "4                               Ybarra Norma Sarabia   \n",
      "...                                              ...   \n",
      "34146           Altamirano Alejandra Sisneros Alonzo   \n",
      "34147               Pantoja Perla Dulce Tejada Prado   \n",
      "34148               Pantoja Perla Dulce Tejada Prado   \n",
      "34149                          Bernal Fidel Portillo   \n",
      "34150                          Bernal Fidel Portillo   \n",
      "\n",
      "                                               Direccion            Telefono  \\\n",
      "0      Prolongación México 200 Interior 792\\nVieja Af...  481.325.0002x71543   \n",
      "1      Corredor Barbados 640 Interior 991\\nVieja Fede...    429-724-1299x957   \n",
      "2      Corredor Barbados 640 Interior 991\\nVieja Fede...    429-724-1299x957   \n",
      "3      Corredor Barbados 640 Interior 991\\nVieja Fede...    429-724-1299x957   \n",
      "4      Continuación Sur Guajardo 116 Edif. 280 , Dept...        812-050-8576   \n",
      "...                                                  ...                 ...   \n",
      "34146  Prolongación Sur Peres 590 Interior 006\\nSan A...    +13(8)8873769883   \n",
      "34147  Cerrada Tabasco 323 Edif. 616 , Depto. 191\\nSa...         02436740443   \n",
      "34148  Cerrada Tabasco 323 Edif. 616 , Depto. 191\\nSa...         02436740443   \n",
      "34149  Periférico Palacios 669 760\\nNueva Eslovaquia,...       (209)445-9487   \n",
      "34150  Periférico Palacios 669 760\\nNueva Eslovaquia,...       (209)445-9487   \n",
      "\n",
      "        latitud   longitud  \n",
      "0     -0.979671 -79.567985  \n",
      "1     -1.043788 -79.569980  \n",
      "2     -1.043788 -79.569980  \n",
      "3     -1.043788 -79.569980  \n",
      "4     -1.114603 -79.568712  \n",
      "...         ...        ...  \n",
      "34146 -1.155126 -79.300864  \n",
      "34147 -1.072330 -79.249315  \n",
      "34148 -1.072330 -79.249315  \n",
      "34149 -1.175779 -79.380842  \n",
      "34150 -1.175779 -79.380842  \n",
      "\n",
      "[34151 rows x 12 columns]\n"
     ]
    }
   ],
   "source": [
    "print (dfCompleto)"
   ]
  },
  {
   "cell_type": "code",
   "execution_count": null,
   "id": "8ea1a684-61f1-427c-9700-185de0e6c046",
   "metadata": {},
   "outputs": [],
   "source": []
  }
 ],
 "metadata": {
  "kernelspec": {
   "display_name": "Python 3 (ipykernel)",
   "language": "python",
   "name": "python3"
  },
  "language_info": {
   "codemirror_mode": {
    "name": "ipython",
    "version": 3
   },
   "file_extension": ".py",
   "mimetype": "text/x-python",
   "name": "python",
   "nbconvert_exporter": "python",
   "pygments_lexer": "ipython3",
   "version": "3.10.0"
  }
 },
 "nbformat": 4,
 "nbformat_minor": 5
}
