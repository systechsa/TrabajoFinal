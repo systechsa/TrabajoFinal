{
 "cells": [
  {
   "cell_type": "code",
   "execution_count": 8,
   "id": "c961ca0c-9a0f-4251-9c90-e6416f2a7559",
   "metadata": {},
   "outputs": [],
   "source": [
    "import pandas as pd\n",
    "from sqlalchemy import create_engine"
   ]
  },
  {
   "cell_type": "code",
   "execution_count": null,
   "id": "3a2739e2-a191-4c6b-96a2-395db47b032e",
   "metadata": {},
   "outputs": [],
   "source": [
    "!pip install pandas sqlalchemy pyodbc"
   ]
  },
  {
   "cell_type": "code",
   "execution_count": 13,
   "id": "bad4fed7-f1fa-4ba4-96f4-252fa5f0ac9f",
   "metadata": {},
   "outputs": [],
   "source": [
    "#Datos para la Conexcion\n",
    "driver = 'ODBC Driver 17 for SQL Server'  \n",
    "server = '165.232.156.17'                  \n",
    "database = 'almacen'\n",
    "usuario = 'UserSql'\n",
    "contrasena = 'JHlo4556HVlmdjb'"
   ]
  },
  {
   "cell_type": "code",
   "execution_count": null,
   "id": "4196cc24-f9a2-42ee-821d-0e5234e5e3a5",
   "metadata": {},
   "outputs": [],
   "source": [
    "#Crea Cadena de conexcion y trae los datos tabla al dataFrame dfVentas\n",
    "Conexion = (\n",
    "    f\"mssql+pyodbc://{usuario}:{contrasena}@{server}/{database}\"\n",
    "    \"?driver=\" + driver.replace(\" \", \"+\") \n",
    ")\n",
    "engine = create_engine(Conexion)\n",
    "dfVentas = pd.read_sql(\"Select * From ventas\", engine)\n"
   ]
  },
  {
   "cell_type": "code",
   "execution_count": null,
   "id": "6e1131fb-bab3-4f3a-b111-10abdf451314",
   "metadata": {},
   "outputs": [],
   "source": [
    "#Trae la informacion de Csv de CLienntes\n",
    "dfCliente = pd.read_csv('Clientes.csv')"
   ]
  },
  {
   "cell_type": "code",
   "execution_count": 17,
   "id": "3f19d1a7-1953-4e3d-b24b-ce1e0db9ab9b",
   "metadata": {},
   "outputs": [],
   "source": [
    "#se une los 2 DataFrame por el Campo CodCLiente\n",
    "dfCompleto = pd.merge(dfVentas, dfCliente, on='CodCLiente')"
   ]
  },
  {
   "cell_type": "code",
   "execution_count": null,
   "id": "9ebc9b88-bed4-4397-9654-face5bd397b6",
   "metadata": {},
   "outputs": [],
   "source": [
    "#Se graba el DataFrame resultante\n",
    "dfCompleto.to_csv('Ventas_Clientes.csv', index=False)\n",
    "dfCompleto.to_sql('Ventas_Clientes', con=engine, if_exists='replace', index=False)"
   ]
  },
  {
   "cell_type": "code",
   "execution_count": null,
   "id": "139486d4-83ff-458e-8a63-c6241c2f3223",
   "metadata": {},
   "outputs": [],
   "source": []
  },
  {
   "cell_type": "code",
   "execution_count": null,
   "id": "8ea1a684-61f1-427c-9700-185de0e6c046",
   "metadata": {},
   "outputs": [],
   "source": []
  }
 ],
 "metadata": {
  "kernelspec": {
   "display_name": "Python 3 (ipykernel)",
   "language": "python",
   "name": "python3"
  },
  "language_info": {
   "codemirror_mode": {
    "name": "ipython",
    "version": 3
   },
   "file_extension": ".py",
   "mimetype": "text/x-python",
   "name": "python",
   "nbconvert_exporter": "python",
   "pygments_lexer": "ipython3",
   "version": "3.10.0"
  }
 },
 "nbformat": 4,
 "nbformat_minor": 5
}
